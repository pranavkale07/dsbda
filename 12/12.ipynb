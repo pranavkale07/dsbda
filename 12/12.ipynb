{
 "cells": [
  {
   "cell_type": "code",
   "execution_count": 9,
   "id": "0d4a532d",
   "metadata": {},
   "outputs": [
    {
     "name": "stdout",
     "output_type": "stream",
     "text": [
      "   age  workclass  fnlwgt     education  educational-num      marital-status  \\\n",
      "0   25    Private  226802          11th                7       Never-married   \n",
      "1   38    Private   89814       HS-grad                9  Married-civ-spouse   \n",
      "2   28  Local-gov  336951    Assoc-acdm               12  Married-civ-spouse   \n",
      "3   44    Private  160323  Some-college               10  Married-civ-spouse   \n",
      "4   18          ?  103497  Some-college               10       Never-married   \n",
      "\n",
      "          occupation relationship   race  gender  capital-gain  capital-loss  \\\n",
      "0  Machine-op-inspct    Own-child  Black    Male             0             0   \n",
      "1    Farming-fishing      Husband  White    Male             0             0   \n",
      "2    Protective-serv      Husband  White    Male             0             0   \n",
      "3  Machine-op-inspct      Husband  Black    Male          7688             0   \n",
      "4                  ?    Own-child  White  Female             0             0   \n",
      "\n",
      "   hours-per-week native-country income  \n",
      "0              40  United-States  <=50K  \n",
      "1              50  United-States  <=50K  \n",
      "2              40  United-States   >50K  \n",
      "3              40  United-States   >50K  \n",
      "4              30  United-States  <=50K  \n"
     ]
    },
    {
     "data": {
      "text/plain": [
       "Index(['age', 'workclass', 'fnlwgt', 'education', 'educational-num',\n",
       "       'marital-status', 'occupation', 'relationship', 'race', 'gender',\n",
       "       'capital-gain', 'capital-loss', 'hours-per-week', 'native-country',\n",
       "       'income'],\n",
       "      dtype='object')"
      ]
     },
     "execution_count": 9,
     "metadata": {},
     "output_type": "execute_result"
    }
   ],
   "source": [
    "import pandas as pd\n",
    "\n",
    "df=pd.read_csv('adult_dataset.csv')\n",
    "\n",
    "print(df.head(5))\n",
    "df.columns\n"
   ]
  },
  {
   "cell_type": "code",
   "execution_count": 10,
   "id": "ec7316a8",
   "metadata": {},
   "outputs": [
    {
     "name": "stdout",
     "output_type": "stream",
     "text": [
      "   age  workclass  fnlwgt     education  educational-num      marital-status  \\\n",
      "0   25    Private  226802          11th                7       Never-married   \n",
      "1   38    Private   89814       HS-grad                9  Married-civ-spouse   \n",
      "2   28  Local-gov  336951    Assoc-acdm               12  Married-civ-spouse   \n",
      "3   44    Private  160323  Some-college               10  Married-civ-spouse   \n",
      "4   18          ?  103497  Some-college               10       Never-married   \n",
      "\n",
      "          occupation relationship   race  gender  capital-gain  capital-loss  \\\n",
      "0  Machine-op-inspct    Own-child  Black    Male             0             0   \n",
      "1    Farming-fishing      Husband  White    Male             0             0   \n",
      "2    Protective-serv      Husband  White    Male             0             0   \n",
      "3  Machine-op-inspct      Husband  Black    Male          7688             0   \n",
      "4                  ?    Own-child  White  Female             0             0   \n",
      "\n",
      "   hours-per-week native-country income  \n",
      "0              40  United-States  <=50K  \n",
      "1              50  United-States  <=50K  \n",
      "2              40  United-States   >50K  \n",
      "3              40  United-States   >50K  \n",
      "4              30  United-States  <=50K  \n",
      "   age  workclass  fnlwgt     education  educational-num      marital-status  \\\n",
      "0   25    Private  226802          11th                7       Never-married   \n",
      "1   38    Private   89814       HS-grad                9  Married-civ-spouse   \n",
      "2   28  Local-gov  336951    Assoc-acdm               12  Married-civ-spouse   \n",
      "3   44    Private  160323  Some-college               10  Married-civ-spouse   \n",
      "5   34    Private  198693          10th                6       Never-married   \n",
      "\n",
      "          occupation   relationship   race gender  capital-gain  capital-loss  \\\n",
      "0  Machine-op-inspct      Own-child  Black   Male             0             0   \n",
      "1    Farming-fishing        Husband  White   Male             0             0   \n",
      "2    Protective-serv        Husband  White   Male             0             0   \n",
      "3  Machine-op-inspct        Husband  Black   Male          7688             0   \n",
      "5      Other-service  Not-in-family  White   Male             0             0   \n",
      "\n",
      "   hours-per-week native-country income  \n",
      "0              40  United-States  <=50K  \n",
      "1              50  United-States  <=50K  \n",
      "2              40  United-States   >50K  \n",
      "3              40  United-States   >50K  \n",
      "5              30  United-States  <=50K  \n",
      "   age         workclass  fnlwgt     education  educational-num  \\\n",
      "1   38           Private   89814       HS-grad                9   \n",
      "2   28         Local-gov  336951    Assoc-acdm               12   \n",
      "4   18                 ?  103497  Some-college               10   \n",
      "5   34           Private  198693          10th                6   \n",
      "7   63  Self-emp-not-inc  104626   Prof-school               15   \n",
      "\n",
      "       marital-status       occupation   relationship   race  gender  \\\n",
      "1  Married-civ-spouse  Farming-fishing        Husband  White    Male   \n",
      "2  Married-civ-spouse  Protective-serv        Husband  White    Male   \n",
      "4       Never-married                ?      Own-child  White  Female   \n",
      "5       Never-married    Other-service  Not-in-family  White    Male   \n",
      "7  Married-civ-spouse   Prof-specialty        Husband  White    Male   \n",
      "\n",
      "   capital-gain  capital-loss  hours-per-week native-country income  \n",
      "1             0             0              50  United-States  <=50K  \n",
      "2             0             0              40  United-States   >50K  \n",
      "4             0             0              30  United-States  <=50K  \n",
      "5             0             0              30  United-States  <=50K  \n",
      "7          3103             0              32  United-States   >50K  \n"
     ]
    }
   ],
   "source": [
    "# a. Create data subsets for different Country, Sex, race.  \n",
    "\n",
    "country_subset=df[df['native-country']=='United-States']\n",
    "sex_subset=df[df['gender']=='Male']\n",
    "race_subset=df[df['race']=='White']\n",
    "\n",
    "print(country_subset.head(5))\n",
    "print(sex_subset.head(5))\n",
    "print(race_subset.head(5))\n"
   ]
  },
  {
   "cell_type": "code",
   "execution_count": 12,
   "id": "683602db",
   "metadata": {},
   "outputs": [
    {
     "name": "stdout",
     "output_type": "stream",
     "text": [
      "   age  workclass  fnlwgt     education  educational-num      marital-status  \\\n",
      "0   25    Private  226802          11th                7       Never-married   \n",
      "1   38    Private   89814       HS-grad                9  Married-civ-spouse   \n",
      "2   28  Local-gov  336951    Assoc-acdm               12  Married-civ-spouse   \n",
      "3   44    Private  160323  Some-college               10  Married-civ-spouse   \n",
      "4   18          ?  103497  Some-college               10       Never-married   \n",
      "\n",
      "          occupation relationship   race  gender  capital-gain  capital-loss  \\\n",
      "0  Machine-op-inspct    Own-child  Black    Male             0             0   \n",
      "1    Farming-fishing      Husband  White    Male             0             0   \n",
      "2    Protective-serv      Husband  White    Male             0             0   \n",
      "3  Machine-op-inspct      Husband  Black    Male          7688             0   \n",
      "4                  ?    Own-child  White  Female             0             0   \n",
      "\n",
      "   hours-per-week native-country income  \n",
      "0              40  United-States  <=50K  \n",
      "1              50  United-States  <=50K  \n",
      "2              40  United-States   >50K  \n",
      "3              40  United-States   >50K  \n",
      "4              30  United-States  <=50K  \n"
     ]
    }
   ],
   "source": [
    "# b. Merge two subsets  \n",
    "\n",
    "merged_data=pd.concat([country_subset,sex_subset,race_subset])\n",
    "\n",
    "print(merged_data.head(5))"
   ]
  },
  {
   "cell_type": "code",
   "execution_count": 14,
   "id": "5bea14e6",
   "metadata": {},
   "outputs": [
    {
     "name": "stdout",
     "output_type": "stream",
     "text": [
      "   age  workclass  fnlwgt     education  educational-num      marital-status  \\\n",
      "0   25    Private  226802          11th                7       Never-married   \n",
      "1   38    Private   89814       HS-grad                9  Married-civ-spouse   \n",
      "2   28  Local-gov  336951    Assoc-acdm               12  Married-civ-spouse   \n",
      "3   44    Private  160323  Some-college               10  Married-civ-spouse   \n",
      "4   18          ?  103497  Some-college               10       Never-married   \n",
      "\n",
      "          occupation relationship   race  gender  capital-gain  capital-loss  \\\n",
      "0  Machine-op-inspct    Own-child  Black    Male             0             0   \n",
      "1    Farming-fishing      Husband  White    Male             0             0   \n",
      "2    Protective-serv      Husband  White    Male             0             0   \n",
      "3  Machine-op-inspct      Husband  Black    Male          7688             0   \n",
      "4                  ?    Own-child  White  Female             0             0   \n",
      "\n",
      "   hours-per-week native-country income  \n",
      "0              40  United-States  <=50K  \n",
      "1              50  United-States  <=50K  \n",
      "2              40  United-States   >50K  \n",
      "3              40  United-States   >50K  \n",
      "4              30  United-States  <=50K  \n"
     ]
    }
   ],
   "source": [
    "# c. Sort Data using customer ratings.  \n",
    "\n",
    "sorted_data=df.sort_values(by='age')\n",
    "\n",
    "print(df.head(5))"
   ]
  },
  {
   "cell_type": "code",
   "execution_count": 16,
   "id": "9209f96c",
   "metadata": {},
   "outputs": [
    {
     "name": "stdout",
     "output_type": "stream",
     "text": [
      "                                 0                   1                   2  \\\n",
      "age                             25                  38                  28   \n",
      "workclass                  Private             Private           Local-gov   \n",
      "fnlwgt                      226802               89814              336951   \n",
      "education                     11th             HS-grad          Assoc-acdm   \n",
      "educational-num                  7                   9                  12   \n",
      "marital-status       Never-married  Married-civ-spouse  Married-civ-spouse   \n",
      "occupation       Machine-op-inspct     Farming-fishing     Protective-serv   \n",
      "relationship             Own-child             Husband             Husband   \n",
      "race                         Black               White               White   \n",
      "gender                        Male                Male                Male   \n",
      "capital-gain                     0                   0                   0   \n",
      "capital-loss                     0                   0                   0   \n",
      "hours-per-week                  40                  50                  40   \n",
      "native-country       United-States       United-States       United-States   \n",
      "income                       <=50K               <=50K                >50K   \n",
      "\n",
      "                                  3  \n",
      "age                              44  \n",
      "workclass                   Private  \n",
      "fnlwgt                       160323  \n",
      "education              Some-college  \n",
      "educational-num                  10  \n",
      "marital-status   Married-civ-spouse  \n",
      "occupation        Machine-op-inspct  \n",
      "relationship                Husband  \n",
      "race                          Black  \n",
      "gender                         Male  \n",
      "capital-gain                   7688  \n",
      "capital-loss                      0  \n",
      "hours-per-week                   40  \n",
      "native-country        United-States  \n",
      "income                         >50K  \n"
     ]
    }
   ],
   "source": [
    "# d.Transposing Data\n",
    "\n",
    "transposed_data=df.head(4).T\n",
    "\n",
    "print(transposed_data)"
   ]
  },
  {
   "cell_type": "code",
   "execution_count": 18,
   "id": "fcdd3965",
   "metadata": {},
   "outputs": [
    {
     "name": "stdout",
     "output_type": "stream",
     "text": [
      "   age      variable  value\n",
      "0   25  capital-gain      0\n",
      "1   38  capital-gain      0\n",
      "2   28  capital-gain      0\n",
      "3   44  capital-gain   7688\n",
      "4   18  capital-gain      0\n"
     ]
    }
   ],
   "source": [
    "# e. Melting Data to long format \n",
    "\n",
    "melted_data=pd.melt(df,id_vars=['age'],value_vars=['capital-gain','capital-loss'])\n",
    "\n",
    "print(melted_data.head(5))"
   ]
  },
  {
   "cell_type": "code",
   "execution_count": 19,
   "id": "3c481716",
   "metadata": {},
   "outputs": [
    {
     "name": "stdout",
     "output_type": "stream",
     "text": [
      "variable  index  capital-gain  capital-loss\n",
      "0         value      52703821       4273788\n"
     ]
    }
   ],
   "source": [
    "# f. Casting data to wide format  \n",
    "\n",
    "casted_data=melted_data.pivot_table(index=None,columns='variable',values='value',aggfunc='sum').reset_index()\n",
    "\n",
    "print(casted_data)"
   ]
  },
  {
   "cell_type": "code",
   "execution_count": null,
   "id": "f5d41eea",
   "metadata": {},
   "outputs": [],
   "source": []
  }
 ],
 "metadata": {
  "kernelspec": {
   "display_name": "Python 3 (ipykernel)",
   "language": "python",
   "name": "python3"
  },
  "language_info": {
   "codemirror_mode": {
    "name": "ipython",
    "version": 3
   },
   "file_extension": ".py",
   "mimetype": "text/x-python",
   "name": "python",
   "nbconvert_exporter": "python",
   "pygments_lexer": "ipython3",
   "version": "3.10.9"
  }
 },
 "nbformat": 4,
 "nbformat_minor": 5
}
