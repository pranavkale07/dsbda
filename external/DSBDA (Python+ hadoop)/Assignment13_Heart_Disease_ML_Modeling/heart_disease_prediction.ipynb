{
 "cells": [
  {
   "cell_type": "markdown",
   "id": "a3395128",
   "metadata": {},
   "source": [
    "# Heart Disease ML Modeling"
   ]
  },
  {
   "cell_type": "code",
   "execution_count": 15,
   "id": "b1ae9a74",
   "metadata": {},
   "outputs": [
    {
     "data": {
      "text/plain": [
       "(1025, 14)"
      ]
     },
     "execution_count": 15,
     "metadata": {},
     "output_type": "execute_result"
    }
   ],
   "source": [
    "# Load and Clean the Data\n",
    "import pandas as pd\n",
    "import numpy as np\n",
    "\n",
    "# Load dataset\n",
    "df = pd.read_csv('../datasets/HeartDisease/heart.csv')\n",
    "\n",
    "# Replace \"?\" with NaN and convert data to numeric where needed\n",
    "df.replace('?', np.nan, inplace=True)\n",
    "\n",
    "# Drop rows with any NaN values\n",
    "df.dropna(inplace=True)\n",
    "\n",
    "# Remove rows with negative values\n",
    "df = df[(df.select_dtypes(include=[np.number]) >= 0).all(axis=1)]\n",
    "\n",
    "df.shape"
   ]
  },
  {
   "cell_type": "code",
   "execution_count": 16,
   "id": "76aaa50b",
   "metadata": {},
   "outputs": [
    {
     "name": "stdout",
     "output_type": "stream",
     "text": [
      "Shape after Outlier Removal: (969, 14)\n"
     ]
    }
   ],
   "source": [
    "# Detect and Remove Outliers (Z-Score Method)\n",
    "from scipy.stats import zscore\n",
    "\n",
    "# Compute Z-scores\n",
    "z_scores = np.abs(zscore(df.select_dtypes(include=[np.number])))\n",
    "df_no_outliers = df[(z_scores < 3).all(axis=1)]\n",
    "\n",
    "print(\"Shape after Outlier Removal:\", df_no_outliers.shape)\n"
   ]
  },
  {
   "cell_type": "code",
   "execution_count": 17,
   "id": "92878d57",
   "metadata": {},
   "outputs": [],
   "source": [
    "# Data Transformation (Normalization)\n",
    "from sklearn.preprocessing import StandardScaler\n",
    "\n",
    "# Separate features and target\n",
    "X = df_no_outliers.drop('target', axis=1)\n",
    "y = df_no_outliers['target']\n",
    "\n",
    "# Normalize features\n",
    "scaler = StandardScaler()\n",
    "X_scaled = scaler.fit_transform(X)\n"
   ]
  },
  {
   "cell_type": "code",
   "execution_count": 18,
   "id": "3f323a64",
   "metadata": {},
   "outputs": [],
   "source": [
    "# Train-Test Split\n",
    "from sklearn.model_selection import train_test_split\n",
    "\n",
    "X_train, X_test, y_train, y_test = train_test_split(\n",
    "    X_scaled, y, test_size=0.2, random_state=42)\n"
   ]
  },
  {
   "cell_type": "code",
   "execution_count": 19,
   "id": "1aff8792",
   "metadata": {},
   "outputs": [
    {
     "name": "stdout",
     "output_type": "stream",
     "text": [
      "Logistic Regression Accuracy: 0.8814432989690721\n"
     ]
    }
   ],
   "source": [
    "# Model 1: Logistic Regression\n",
    "from sklearn.linear_model import LogisticRegression\n",
    "from sklearn.metrics import accuracy_score\n",
    "\n",
    "# Logistic Regression\n",
    "logreg = LogisticRegression()\n",
    "logreg.fit(X_train, y_train)\n",
    "y_pred_log = logreg.predict(X_test)\n",
    "\n",
    "acc_log = accuracy_score(y_test, y_pred_log)\n",
    "print(\"Logistic Regression Accuracy:\", acc_log)\n"
   ]
  },
  {
   "cell_type": "code",
   "execution_count": 20,
   "id": "203a2d7c",
   "metadata": {},
   "outputs": [
    {
     "name": "stdout",
     "output_type": "stream",
     "text": [
      "kNN Accuracy: 0.9072164948453608\n"
     ]
    }
   ],
   "source": [
    "# Model 2: k-Nearest Neighbors (kNN)\n",
    "from sklearn.neighbors import KNeighborsClassifier\n",
    "\n",
    "# kNN model\n",
    "knn = KNeighborsClassifier(n_neighbors=5)\n",
    "knn.fit(X_train, y_train)\n",
    "y_pred_knn = knn.predict(X_test)\n",
    "\n",
    "acc_knn = accuracy_score(y_test, y_pred_knn)\n",
    "print(\"kNN Accuracy:\", acc_knn)\n"
   ]
  },
  {
   "cell_type": "code",
   "execution_count": 21,
   "id": "ae8c5c29",
   "metadata": {},
   "outputs": [
    {
     "name": "stdout",
     "output_type": "stream",
     "text": [
      "Accuracy Comparison:\n",
      "  Logistic Regression: 0.88\n",
      "  kNN: 0.91\n"
     ]
    }
   ],
   "source": [
    "# Accuracy Comparison\n",
    "print(f\"Accuracy Comparison:\\n  Logistic Regression: {acc_log:.2f}\\n  kNN: {acc_knn:.2f}\")\n"
   ]
  }
 ],
 "metadata": {
  "kernelspec": {
   "display_name": "Python 3",
   "language": "python",
   "name": "python3"
  },
  "language_info": {
   "codemirror_mode": {
    "name": "ipython",
    "version": 3
   },
   "file_extension": ".py",
   "mimetype": "text/x-python",
   "name": "python",
   "nbconvert_exporter": "python",
   "pygments_lexer": "ipython3",
   "version": "3.12.4"
  }
 },
 "nbformat": 4,
 "nbformat_minor": 5
}
