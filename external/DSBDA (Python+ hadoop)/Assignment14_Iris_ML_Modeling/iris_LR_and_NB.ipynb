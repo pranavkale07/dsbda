{
 "cells": [
  {
   "cell_type": "markdown",
   "id": "c3987ace",
   "metadata": {},
   "source": [
    "**Iris ML Model Prediction Using Logistic Regression and Naive Bayes**"
   ]
  },
  {
   "cell_type": "code",
   "execution_count": 31,
   "id": "f4df4ad3",
   "metadata": {},
   "outputs": [],
   "source": [
    "# Import Libraries\n",
    "import pandas as pd\n",
    "import numpy as np\n",
    "from sklearn.model_selection import train_test_split\n",
    "from sklearn.preprocessing import StandardScaler, LabelEncoder\n",
    "from sklearn.linear_model import LogisticRegression\n",
    "from sklearn.naive_bayes import GaussianNB\n",
    "from sklearn.metrics import accuracy_score\n",
    "from scipy.stats import zscore\n"
   ]
  },
  {
   "cell_type": "code",
   "execution_count": 32,
   "id": "b9da7a6b",
   "metadata": {},
   "outputs": [
    {
     "name": "stdout",
     "output_type": "stream",
     "text": [
      "   sepal.length  sepal.width  petal.length  petal.width variety\n",
      "0           5.1          3.5           1.4          0.2  Setosa\n",
      "1           4.9          3.0           1.4          0.2  Setosa\n",
      "2           4.7          3.2           1.3          0.2  Setosa\n",
      "3           4.6          3.1           1.5          0.2  Setosa\n",
      "4           5.0          3.6           1.4          0.2  Setosa\n"
     ]
    },
    {
     "data": {
      "text/plain": [
       "(150, 5)"
      ]
     },
     "execution_count": 32,
     "metadata": {},
     "output_type": "execute_result"
    }
   ],
   "source": [
    "# Load the dataset\n",
    "df = pd.read_csv(\"../datasets/Iris/iris.csv\")\n",
    "\n",
    "# Show the first few rows\n",
    "print(df.head())\n",
    "df.shape\n"
   ]
  },
  {
   "cell_type": "code",
   "execution_count": 33,
   "id": "21791c46",
   "metadata": {},
   "outputs": [
    {
     "data": {
      "text/plain": [
       "(150, 5)"
      ]
     },
     "execution_count": 33,
     "metadata": {},
     "output_type": "execute_result"
    }
   ],
   "source": [
    "# Data Cleaning: Remove missing values and check for negatives\n",
    "# Replace \"?\" with NaN and convert data to numeric where needed\n",
    "df.replace('?', np.nan, inplace=True)\n",
    "\n",
    "# Drop rows with any NaN values\n",
    "df.dropna(inplace=True)\n",
    "\n",
    "# Remove rows with negative values\n",
    "df = df[(df.select_dtypes(include=[np.number]) >= 0).all(axis=1)]\n",
    "\n",
    "df.shape"
   ]
  },
  {
   "cell_type": "code",
   "execution_count": 34,
   "id": "3adf7775",
   "metadata": {},
   "outputs": [
    {
     "name": "stdout",
     "output_type": "stream",
     "text": [
      "Data shape after outlier removal: (149, 5)\n"
     ]
    }
   ],
   "source": [
    "# Outlier Detection and Removal (Z-score)\n",
    "# Calculate Z-scores\n",
    "z_scores = np.abs(zscore(df.select_dtypes(include=[np.number])))\n",
    "\n",
    "# Keep only rows where all z-scores < 3\n",
    "df = df[(z_scores < 3).all(axis=1)]\n",
    "print(\"Data shape after outlier removal:\", df.shape)"
   ]
  },
  {
   "cell_type": "code",
   "execution_count": 35,
   "id": "d242a4c9",
   "metadata": {},
   "outputs": [],
   "source": [
    "# Encoding and Splitting\n",
    "# Encode the 'variety' column\n",
    "le = LabelEncoder()\n",
    "df['variety'] = le.fit_transform(df['variety'])\n",
    "\n",
    "# Separate features and target\n",
    "X = df.drop('variety', axis=1)\n",
    "y = df['variety']\n",
    "\n",
    "# Scale features\n",
    "scaler = StandardScaler()\n",
    "X_scaled = scaler.fit_transform(X)\n",
    "\n",
    "# Split into train and test sets\n",
    "X_train, X_test, y_train, y_test = train_test_split(X_scaled, y, test_size=0.2, random_state=42)\n"
   ]
  },
  {
   "cell_type": "code",
   "execution_count": 36,
   "id": "5e51dce6",
   "metadata": {},
   "outputs": [
    {
     "name": "stdout",
     "output_type": "stream",
     "text": [
      "Logistic Regression Accuracy: 0.9\n"
     ]
    }
   ],
   "source": [
    "# Logistic Regression Model\n",
    "# Train Logistic Regression\n",
    "lr_model = LogisticRegression(max_iter=200)\n",
    "lr_model.fit(X_train, y_train)\n",
    "\n",
    "# Predict and evaluate\n",
    "y_pred_lr = lr_model.predict(X_test)\n",
    "\n",
    "acc_log = accuracy_score(y_test, y_pred_lr)\n",
    "print(\"Logistic Regression Accuracy:\", acc_log)\n"
   ]
  },
  {
   "cell_type": "code",
   "execution_count": 37,
   "id": "3c64a232",
   "metadata": {},
   "outputs": [
    {
     "name": "stdout",
     "output_type": "stream",
     "text": [
      "Naïve Bayes Accuracy: 0.8666666666666667\n"
     ]
    }
   ],
   "source": [
    "#  Naïve Bayes Model\n",
    "# Train Naïve Bayes\n",
    "nb_model = GaussianNB()\n",
    "nb_model.fit(X_train, y_train)\n",
    "\n",
    "# Predict and evaluate\n",
    "y_pred_nb = nb_model.predict(X_test)\n",
    "\n",
    "acc_nb = accuracy_score(y_test, y_pred_nb)\n",
    "print(\"Naïve Bayes Accuracy:\", acc_nb)\n"
   ]
  },
  {
   "cell_type": "code",
   "execution_count": 38,
   "id": "1af06837",
   "metadata": {},
   "outputs": [
    {
     "name": "stdout",
     "output_type": "stream",
     "text": [
      "Accuracy Comparison:\n",
      "  Logistic Regression: 0.90\n",
      "  Naïve Bayes: 0.87\n"
     ]
    }
   ],
   "source": [
    "# Print comparison\n",
    "print(f\"Accuracy Comparison:\\n  Logistic Regression: {acc_log:.2f}\\n  Naïve Bayes: {acc_nb:.2f}\")"
   ]
  }
 ],
 "metadata": {
  "kernelspec": {
   "display_name": "Python 3",
   "language": "python",
   "name": "python3"
  },
  "language_info": {
   "codemirror_mode": {
    "name": "ipython",
    "version": 3
   },
   "file_extension": ".py",
   "mimetype": "text/x-python",
   "name": "python",
   "nbconvert_exporter": "python",
   "pygments_lexer": "ipython3",
   "version": "3.12.4"
  }
 },
 "nbformat": 4,
 "nbformat_minor": 5
}
