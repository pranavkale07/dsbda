{
 "cells": [
  {
   "cell_type": "markdown",
   "id": "819aa872",
   "metadata": {},
   "source": [
    "**Adult Dataset ML Model Prediction Using Logistic Regression and Naive Bayes**"
   ]
  },
  {
   "cell_type": "code",
   "execution_count": 74,
   "id": "c0944e8e",
   "metadata": {},
   "outputs": [],
   "source": [
    "# Load the dataset\n",
    "import pandas as pd\n",
    "import numpy as np\n",
    "\n",
    "df = pd.read_csv('../datasets/Adult/adult_dataset.csv')\n"
   ]
  },
  {
   "cell_type": "code",
   "execution_count": 75,
   "id": "28b0024e",
   "metadata": {},
   "outputs": [
    {
     "data": {
      "text/plain": [
       "(45222, 15)"
      ]
     },
     "execution_count": 75,
     "metadata": {},
     "output_type": "execute_result"
    }
   ],
   "source": [
    "# Data Cleaning: Remove missing values and check for negatives\n",
    "# Replace \"?\" with NaN and convert data to numeric where needed\n",
    "df.replace('?', np.nan, inplace=True)\n",
    "\n",
    "# Drop rows with any NaN values\n",
    "df.dropna(inplace=True)\n",
    "\n",
    "# Remove rows with negative values\n",
    "df = df[(df.select_dtypes(include=[np.number]) >= 0).all(axis=1)]\n",
    "\n",
    "df.shape\n"
   ]
  },
  {
   "cell_type": "code",
   "execution_count": 76,
   "id": "c8810e13",
   "metadata": {},
   "outputs": [],
   "source": [
    "# Error Correction: Remove outliers using Z-score\n",
    "from scipy.stats import zscore\n",
    "\n",
    "z_scores = np.abs(zscore(df.select_dtypes(include=[np.number])))\n",
    "df = df[(z_scores < 3).all(axis=1)]"
   ]
  },
  {
   "cell_type": "code",
   "execution_count": 77,
   "id": "0f1472c1",
   "metadata": {},
   "outputs": [],
   "source": [
    "# Data Transformation: Encode categorical columns and scale numerical features\n",
    "from sklearn.preprocessing import LabelEncoder, StandardScaler\n",
    "\n",
    "for col in df.select_dtypes(include='object').columns:\n",
    "    df[col] = LabelEncoder().fit_transform(df[col])\n",
    "\n",
    "X = df.drop('income', axis=1)\n",
    "y = df['income']\n",
    "\n",
    "scaler = StandardScaler()\n",
    "X_scaled = scaler.fit_transform(X)\n"
   ]
  },
  {
   "cell_type": "code",
   "execution_count": 78,
   "id": "08bd7124",
   "metadata": {},
   "outputs": [],
   "source": [
    "# Split the data into training and testing sets\n",
    "from sklearn.model_selection import train_test_split\n",
    "\n",
    "X_train, X_test, y_train, y_test = train_test_split(X_scaled, y, test_size=0.2, random_state=42)\n"
   ]
  },
  {
   "cell_type": "code",
   "execution_count": 79,
   "id": "96e9171f",
   "metadata": {},
   "outputs": [
    {
     "name": "stdout",
     "output_type": "stream",
     "text": [
      "Logistic Regression Accuracy: 0.8215968112090832\n"
     ]
    }
   ],
   "source": [
    "# Train a Logistic Regression model\n",
    "from sklearn.linear_model import LogisticRegression\n",
    "from sklearn.metrics import accuracy_score\n",
    "\n",
    "lr = LogisticRegression()\n",
    "lr.fit(X_train, y_train)\n",
    "y_pred_lr = lr.predict(X_test)\n",
    "acc_lr = accuracy_score(y_test, y_pred_lr)\n",
    "print(\"Logistic Regression Accuracy:\", acc_lr)"
   ]
  },
  {
   "cell_type": "code",
   "execution_count": 80,
   "id": "8bfd27e6",
   "metadata": {},
   "outputs": [
    {
     "name": "stdout",
     "output_type": "stream",
     "text": [
      "Naïve Bayes Accuracy: 0.8011837178403188\n"
     ]
    }
   ],
   "source": [
    "# Train a Naive Bayes model\n",
    "from sklearn.naive_bayes import GaussianNB\n",
    "\n",
    "nb = GaussianNB()\n",
    "nb.fit(X_train, y_train)\n",
    "y_pred_nb = nb.predict(X_test)\n",
    "acc_nb = accuracy_score(y_test, y_pred_nb)\n",
    "print(\"Naïve Bayes Accuracy:\", acc_nb)"
   ]
  },
  {
   "cell_type": "code",
   "execution_count": 81,
   "id": "e8108378",
   "metadata": {},
   "outputs": [
    {
     "name": "stdout",
     "output_type": "stream",
     "text": [
      "Accuracy Comparison:\n",
      "  Logistic Regression: 0.82\n",
      "  Naive Bayes: 0.80\n"
     ]
    }
   ],
   "source": [
    "# Accuracy Comparison\n",
    "print(f\"Accuracy Comparison:\\n  Logistic Regression: {acc_lr:.2f}\\n  Naive Bayes: {acc_nb:.2f}\")"
   ]
  }
 ],
 "metadata": {
  "kernelspec": {
   "display_name": "Python 3",
   "language": "python",
   "name": "python3"
  },
  "language_info": {
   "codemirror_mode": {
    "name": "ipython",
    "version": 3
   },
   "file_extension": ".py",
   "mimetype": "text/x-python",
   "name": "python",
   "nbconvert_exporter": "python",
   "pygments_lexer": "ipython3",
   "version": "3.12.4"
  }
 },
 "nbformat": 4,
 "nbformat_minor": 5
}
