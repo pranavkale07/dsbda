{
  "nbformat": 4,
  "nbformat_minor": 0,
  "metadata": {
    "colab": {
      "provenance": []
    },
    "kernelspec": {
      "name": "python3",
      "display_name": "Python 3"
    },
    "language_info": {
      "name": "python"
    }
  },
  "cells": [
    {
      "cell_type": "code",
      "execution_count": 1,
      "metadata": {
        "colab": {
          "base_uri": "https://localhost:8080/"
        },
        "id": "E3WZTax8YRJN",
        "outputId": "eec12289-06fb-4076-f42b-cb01b854efe1"
      },
      "outputs": [
        {
          "output_type": "stream",
          "name": "stdout",
          "text": [
            "Logistic Regression Accuracy: 0.8426966292134831\n",
            "kNN Accuracy: 0.848314606741573\n",
            "Difference (Logistic Regression - kNN): -0.005617977528089901\n"
          ]
        }
      ],
      "source": [
        "import pandas as pd\n",
        "import numpy as np\n",
        "from sklearn.model_selection import train_test_split\n",
        "from sklearn.preprocessing import StandardScaler\n",
        "from sklearn.linear_model import LogisticRegression\n",
        "from sklearn.neighbors import KNeighborsClassifier\n",
        "from sklearn.metrics import accuracy_score\n",
        "\n",
        "# Load the dataset\n",
        "df = pd.read_csv('heart.csv')\n",
        "\n",
        "# a. Data cleaning: Remove NA, ?, and negative values\n",
        "# Replace '?' with NaN\n",
        "df.replace('?', np.nan, inplace=True)\n",
        "\n",
        "# Drop rows with NaN values\n",
        "df.dropna(inplace=True)\n",
        "\n",
        "# Remove negative values (e.g., in numeric columns)\n",
        "numeric_cols = ['age', 'trestbps', 'chol', 'thalach', 'oldpeak', 'ca']\n",
        "df = df[(df[numeric_cols] >= 0).all(axis=1)]\n",
        "\n",
        "# b. Error correcting: Outlier detection and removal using IQR\n",
        "for col in numeric_cols:\n",
        "    Q1 = df[col].quantile(0.25)\n",
        "    Q3 = df[col].quantile(0.75)\n",
        "    IQR = Q3 - Q1\n",
        "    lower_bound = Q1 - 1.5 * IQR\n",
        "    upper_bound = Q3 + 1.5 * IQR\n",
        "    df = df[(df[col] >= lower_bound) & (df[col] <= upper_bound)]\n",
        "\n",
        "# c. Data transformation: Normalize numerical features\n",
        "scaler = StandardScaler()\n",
        "df[numeric_cols] = scaler.fit_transform(df[numeric_cols])\n",
        "\n",
        "# Prepare features (X) and target (y)\n",
        "X = df.drop('target', axis=1)\n",
        "y = df['target']\n",
        "\n",
        "# Split the data into training and testing sets\n",
        "X_train, X_test, y_train, y_test = train_test_split(X, y, test_size=0.2, random_state=42)\n",
        "\n",
        "# d. Build models and compare accuracy\n",
        "# Logistic Regression\n",
        "logreg = LogisticRegression(max_iter=1000, random_state=42)\n",
        "logreg.fit(X_train, y_train)\n",
        "y_pred_logreg = logreg.predict(X_test)\n",
        "logreg_accuracy = accuracy_score(y_test, y_pred_logreg)\n",
        "\n",
        "# kNN\n",
        "knn = KNeighborsClassifier(n_neighbors=5)\n",
        "knn.fit(X_train, y_train)\n",
        "y_pred_knn = knn.predict(X_test)\n",
        "knn_accuracy = accuracy_score(y_test, y_pred_knn)\n",
        "\n",
        "# Print results\n",
        "print(\"Logistic Regression Accuracy:\", logreg_accuracy)\n",
        "print(\"kNN Accuracy:\", knn_accuracy)\n",
        "print(\"Difference (Logistic Regression - kNN):\", logreg_accuracy - knn_accuracy)"
      ]
    }
  ]
}