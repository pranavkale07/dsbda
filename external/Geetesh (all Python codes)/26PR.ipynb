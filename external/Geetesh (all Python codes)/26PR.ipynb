{
  "nbformat": 4,
  "nbformat_minor": 0,
  "metadata": {
    "colab": {
      "provenance": []
    },
    "kernelspec": {
      "name": "python3",
      "display_name": "Python 3"
    },
    "language_info": {
      "name": "python"
    }
  },
  "cells": [
    {
      "cell_type": "code",
      "execution_count": 4,
      "metadata": {
        "colab": {
          "base_uri": "https://localhost:8080/"
        },
        "id": "AG-mw53BGP8g",
        "outputId": "3d0ffcdf-539b-4c32-c49f-b78ccedb5b17"
      },
      "outputs": [
        {
          "output_type": "stream",
          "name": "stdout",
          "text": [
            "Logistic Regression Accuracy: 0.9090909090909091\n",
            "Naive Bayes Accuracy: 0.9090909090909091\n",
            "Difference (Logistic Regression - Naive Bayes): 0.0\n"
          ]
        }
      ],
      "source": [
        "import pandas as pd\n",
        "import numpy as np\n",
        "from sklearn.model_selection import train_test_split\n",
        "from sklearn.preprocessing import StandardScaler, LabelEncoder\n",
        "from sklearn.linear_model import LogisticRegression\n",
        "from sklearn.naive_bayes import GaussianNB\n",
        "from sklearn.metrics import accuracy_score\n",
        "\n",
        "# Define column names for the Hepatitis dataset\n",
        "columns = ['class', 'age', 'sex', 'steroid', 'antivirals', 'fatigue', 'malaise', 'anorexia',\n",
        "           'liver_big', 'liver_firm', 'spleen_palpable', 'spiders', 'ascites', 'varices',\n",
        "           'bilirubin', 'alk_phosphate', 'sgot', 'albumin', 'protime', 'histology']\n",
        "\n",
        "# Load the dataset\n",
        "df = pd.read_csv('hepatitis.csv', header=None, names=columns)\n",
        "\n",
        "# q. Data cleaning: Remove NA, ?, and negative values\n",
        "# Replace '?' with NaN\n",
        "df.replace('?', np.nan, inplace=True)\n",
        "\n",
        "# Convert relevant columns to numeric\n",
        "numeric_cols = ['age', 'bilirubin', 'alk_phosphate', 'sgot', 'albumin', 'protime']\n",
        "for col in numeric_cols:\n",
        "    df[col] = pd.to_numeric(df[col], errors='coerce')\n",
        "\n",
        "# Drop rows with NaN values\n",
        "df.dropna(inplace=True)\n",
        "\n",
        "# Remove negative values\n",
        "df = df[(df[numeric_cols] >= 0).all(axis=1)]\n",
        "\n",
        "# r. Error correcting: Outlier detection and removal using IQR\n",
        "for col in numeric_cols:\n",
        "    Q1 = df[col].quantile(0.25)\n",
        "    Q3 = df[col].quantile(0.75)\n",
        "    IQR = Q3 - Q1\n",
        "    lower_bound = Q1 - 1.5 * IQR\n",
        "    upper_bound = Q3 + 1.5 * IQR\n",
        "    df = df[(df[col] >= lower_bound) & (df[col] <= upper_bound)]\n",
        "\n",
        "# s. Data transformation: Encode categorical variables and normalize numerical features\n",
        "# Encode categorical columns\n",
        "le = LabelEncoder()\n",
        "categorical_cols = ['sex', 'steroid', 'antivirals', 'fatigue', 'malaise', 'anorexia',\n",
        "                   'liver_big', 'liver_firm', 'spleen_palpable', 'spiders', 'ascites',\n",
        "                   'varices', 'histology']\n",
        "for col in categorical_cols:\n",
        "    df[col] = le.fit_transform(df[col])\n",
        "\n",
        "# Map class: 2 (DIE) to 1, 1 (LIVE) to 0 for binary classification\n",
        "df['class'] = df['class'].map({2: 1, 1: 0})\n",
        "\n",
        "# Normalize numerical features\n",
        "scaler = StandardScaler()\n",
        "df[numeric_cols] = scaler.fit_transform(df[numeric_cols])\n",
        "\n",
        "# Prepare features (X) and target (y)\n",
        "X = df.drop('class', axis=1)\n",
        "y = df['class']\n",
        "\n",
        "# Split the data into training and testing sets\n",
        "X_train, X_test, y_train, y_test = train_test_split(X, y, test_size=0.2, random_state=42)\n",
        "\n",
        "# t. Build models and compare accuracy\n",
        "# Logistic Regression\n",
        "logreg = LogisticRegression(max_iter=1000, random_state=42)\n",
        "logreg.fit(X_train, y_train)\n",
        "y_pred_logreg = logreg.predict(X_test)\n",
        "logreg_accuracy = accuracy_score(y_test, y_pred_logreg)\n",
        "\n",
        "# Naive Bayes\n",
        "nb = GaussianNB()\n",
        "nb.fit(X_train, y_train)\n",
        "y_pred_nb = nb.predict(X_test)\n",
        "nb_accuracy = accuracy_score(y_test, y_pred_nb)\n",
        "\n",
        "# Print results\n",
        "print(\"Logistic Regression Accuracy:\", logreg_accuracy)\n",
        "print(\"Naive Bayes Accuracy:\", nb_accuracy)\n",
        "print(\"Difference (Logistic Regression - Naive Bayes):\", logreg_accuracy - nb_accuracy)"
      ]
    }
  ]
}